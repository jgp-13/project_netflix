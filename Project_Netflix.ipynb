{
 "cells": [
  {
   "cell_type": "markdown",
   "id": "937acf3c-c077-4ca6-8d90-8f6dd4d13c54",
   "metadata": {},
   "source": [
    "<center><img src=\"redpopcorn.jpg\"></center>"
   ]
  },
  {
   "cell_type": "markdown",
   "id": "5962b2cd-17bb-4ec9-b2d5-68537ca26860",
   "metadata": {},
   "source": [
    "**Netflix**! What started in 1997 as a DVD rental service has since exploded into one of the largest entertainment and media companies.\n",
    "\n",
    "Given the large number of movies and series available on the platform, it is a perfect opportunity to flex your exploratory data analysis skills and dive into the entertainment industry.\n",
    "\n",
    "You work for a production company that specializes in nostalgic styles. You want to do some research on movies released in the 1990's. You'll delve into Netflix data and perform exploratory data analysis to better understand this awesome movie decade!\n",
    "\n",
    "You have been supplied with the dataset `netflix_data.csv`, along with the following table detailing the column names and descriptions. Feel free to experiment further after submitting!\n",
    "\n",
    "## The data\n",
    "### **netflix_data.csv**\n",
    "| Column | Description |\n",
    "|--------|-------------|\n",
    "| `show_id` | The ID of the show |\n",
    "| `type` | Type of show |\n",
    "| `title` | Title of the show |\n",
    "| `director` | Director of the show |\n",
    "| `cast` | Cast of the show |\n",
    "| `country` | Country of origin |\n",
    "| `date_added` | Date added to Netflix |\n",
    "| `release_year` | Year of Netflix release |\n",
    "| `duration` | Duration of the show in minutes |\n",
    "| `description` | Description of the show |\n",
    "| `genre` | Show genre |"
   ]
  },
  {
   "cell_type": "code",
   "execution_count": 1,
   "id": "320a3abc-8a36-4b2b-baaf-473325363a4d",
   "metadata": {
    "executionCancelledAt": null,
    "executionTime": 36,
    "lastExecutedAt": 1716304519424,
    "lastExecutedByKernel": "0d939945-001f-4d0d-a547-a84889cb9c27",
    "lastScheduledRunId": null,
    "lastSuccessfullyExecutedCode": "# Importing pandas and matplotlib\nimport pandas as pd\nimport matplotlib.pyplot as plt\n\n# Read in the Netflix CSV as a DataFrame\nnetflix_df = pd.read_csv(\"netflix_data.csv\")"
   },
   "outputs": [],
   "source": [
    "# Importing pandas and matplotlib\n",
    "import pandas as pd\n",
    "import matplotlib.pyplot as plt\n",
    "import numpy as np\n",
    "\n",
    "# Read in the Netflix CSV as a DataFrame\n",
    "netflix_df = pd.read_csv(\"netflix_data.csv\")"
   ]
  },
  {
   "cell_type": "markdown",
   "id": "d756802e-45b7-4011-95f4-0bdbc8554b90",
   "metadata": {},
   "source": [
    "## Pre-processing"
   ]
  },
  {
   "cell_type": "markdown",
   "id": "5185099b-4ae0-4786-91f5-e7f2f4fa4f55",
   "metadata": {},
   "source": [
    "First we will change the **long Dataframe name** for the sake of simplicity. Then we will see the characteristics of data and identify data to be cleanned."
   ]
  },
  {
   "cell_type": "code",
   "execution_count": 2,
   "id": "1c571bfc-8eeb-4685-97d2-51f70f4e13eb",
   "metadata": {},
   "outputs": [],
   "source": [
    "df=netflix_df"
   ]
  },
  {
   "cell_type": "code",
   "execution_count": 3,
   "id": "0d60a4dd-89d1-4570-a7c6-12b7b3ea797f",
   "metadata": {},
   "outputs": [
    {
     "name": "stdout",
     "output_type": "stream",
     "text": [
      "<class 'pandas.core.frame.DataFrame'>\n",
      "RangeIndex: 4812 entries, 0 to 4811\n",
      "Data columns (total 11 columns):\n",
      " #   Column        Non-Null Count  Dtype \n",
      "---  ------        --------------  ----- \n",
      " 0   show_id       4812 non-null   object\n",
      " 1   type          4812 non-null   object\n",
      " 2   title         4812 non-null   object\n",
      " 3   director      4812 non-null   object\n",
      " 4   cast          4812 non-null   object\n",
      " 5   country       4812 non-null   object\n",
      " 6   date_added    4812 non-null   object\n",
      " 7   release_year  4812 non-null   int64 \n",
      " 8   duration      4812 non-null   int64 \n",
      " 9   description   4812 non-null   object\n",
      " 10  genre         4812 non-null   object\n",
      "dtypes: int64(2), object(9)\n",
      "memory usage: 413.7+ KB\n"
     ]
    }
   ],
   "source": [
    "df.info()"
   ]
  },
  {
   "cell_type": "markdown",
   "id": "c471cdb8-299f-4da6-b502-f351cc6f0d9f",
   "metadata": {},
   "source": [
    "Now lets check the format of the strings."
   ]
  },
  {
   "cell_type": "code",
   "execution_count": 4,
   "id": "72658473-114f-49eb-bd4e-cc03c710834a",
   "metadata": {
    "executionCancelledAt": null,
    "executionTime": 9,
    "lastExecutedAt": 1716304521330,
    "lastExecutedByKernel": "0d939945-001f-4d0d-a547-a84889cb9c27",
    "lastScheduledRunId": null,
    "lastSuccessfullyExecutedCode": "# Start coding here! Use as many cells as you like"
   },
   "outputs": [
    {
     "data": {
      "text/html": [
       "<div>\n",
       "<style scoped>\n",
       "    .dataframe tbody tr th:only-of-type {\n",
       "        vertical-align: middle;\n",
       "    }\n",
       "\n",
       "    .dataframe tbody tr th {\n",
       "        vertical-align: top;\n",
       "    }\n",
       "\n",
       "    .dataframe thead th {\n",
       "        text-align: right;\n",
       "    }\n",
       "</style>\n",
       "<table border=\"1\" class=\"dataframe\">\n",
       "  <thead>\n",
       "    <tr style=\"text-align: right;\">\n",
       "      <th></th>\n",
       "      <th>show_id</th>\n",
       "      <th>type</th>\n",
       "      <th>title</th>\n",
       "      <th>director</th>\n",
       "      <th>cast</th>\n",
       "      <th>country</th>\n",
       "      <th>date_added</th>\n",
       "      <th>release_year</th>\n",
       "      <th>duration</th>\n",
       "      <th>description</th>\n",
       "      <th>genre</th>\n",
       "    </tr>\n",
       "  </thead>\n",
       "  <tbody>\n",
       "    <tr>\n",
       "      <th>1733</th>\n",
       "      <td>s2776</td>\n",
       "      <td>Movie</td>\n",
       "      <td>Holidays</td>\n",
       "      <td>Anthony Scott Burns, Nicholas McCarthy, Adam E...</td>\n",
       "      <td>Madeleine Coghlan, Savannah Kennick, Ruth Brad...</td>\n",
       "      <td>United States</td>\n",
       "      <td>July 15, 2016</td>\n",
       "      <td>2016</td>\n",
       "      <td>106</td>\n",
       "      <td>Eight gleefully grim short tales set on Hallow...</td>\n",
       "      <td>Comedies</td>\n",
       "    </tr>\n",
       "    <tr>\n",
       "      <th>1381</th>\n",
       "      <td>s2195</td>\n",
       "      <td>Movie</td>\n",
       "      <td>Fitoor</td>\n",
       "      <td>Abhishek Kapoor</td>\n",
       "      <td>Aditya Roy Kapoor, Katrina Kaif, Tabu, Rahul B...</td>\n",
       "      <td>India</td>\n",
       "      <td>August 2, 2018</td>\n",
       "      <td>2016</td>\n",
       "      <td>124</td>\n",
       "      <td>A young artist falls for an aristocratic young...</td>\n",
       "      <td>Dramas</td>\n",
       "    </tr>\n",
       "    <tr>\n",
       "      <th>4147</th>\n",
       "      <td>s6659</td>\n",
       "      <td>Movie</td>\n",
       "      <td>The Men Who Stare at Goats</td>\n",
       "      <td>Grant Heslov</td>\n",
       "      <td>George Clooney, Ewan McGregor, Jeff Bridges, K...</td>\n",
       "      <td>United States</td>\n",
       "      <td>June 4, 2019</td>\n",
       "      <td>2009</td>\n",
       "      <td>94</td>\n",
       "      <td>A journalist latches onto an unbelievable stor...</td>\n",
       "      <td>Comedies</td>\n",
       "    </tr>\n",
       "    <tr>\n",
       "      <th>2953</th>\n",
       "      <td>s4721</td>\n",
       "      <td>Movie</td>\n",
       "      <td>P.S. I Love You</td>\n",
       "      <td>Richard LaGravenese</td>\n",
       "      <td>Hilary Swank, Gerard Butler, Lisa Kudrow, Gina...</td>\n",
       "      <td>United States</td>\n",
       "      <td>April 1, 2019</td>\n",
       "      <td>2007</td>\n",
       "      <td>126</td>\n",
       "      <td>When she loses her beloved husband to a brain ...</td>\n",
       "      <td>Dramas</td>\n",
       "    </tr>\n",
       "    <tr>\n",
       "      <th>3760</th>\n",
       "      <td>s6043</td>\n",
       "      <td>Movie</td>\n",
       "      <td>Thank You</td>\n",
       "      <td>Anees Bazmee</td>\n",
       "      <td>Akshay Kumar, Bobby Deol, Sonam Kapoor, Irrfan...</td>\n",
       "      <td>India</td>\n",
       "      <td>August 2, 2018</td>\n",
       "      <td>2011</td>\n",
       "      <td>131</td>\n",
       "      <td>Three cheating husbands end up paying the pric...</td>\n",
       "      <td>Comedies</td>\n",
       "    </tr>\n",
       "  </tbody>\n",
       "</table>\n",
       "</div>"
      ],
      "text/plain": [
       "     show_id   type                       title  \\\n",
       "1733   s2776  Movie                    Holidays   \n",
       "1381   s2195  Movie                      Fitoor   \n",
       "4147   s6659  Movie  The Men Who Stare at Goats   \n",
       "2953   s4721  Movie             P.S. I Love You   \n",
       "3760   s6043  Movie                   Thank You   \n",
       "\n",
       "                                               director  \\\n",
       "1733  Anthony Scott Burns, Nicholas McCarthy, Adam E...   \n",
       "1381                                    Abhishek Kapoor   \n",
       "4147                                       Grant Heslov   \n",
       "2953                                Richard LaGravenese   \n",
       "3760                                       Anees Bazmee   \n",
       "\n",
       "                                                   cast        country  \\\n",
       "1733  Madeleine Coghlan, Savannah Kennick, Ruth Brad...  United States   \n",
       "1381  Aditya Roy Kapoor, Katrina Kaif, Tabu, Rahul B...          India   \n",
       "4147  George Clooney, Ewan McGregor, Jeff Bridges, K...  United States   \n",
       "2953  Hilary Swank, Gerard Butler, Lisa Kudrow, Gina...  United States   \n",
       "3760  Akshay Kumar, Bobby Deol, Sonam Kapoor, Irrfan...          India   \n",
       "\n",
       "          date_added  release_year  duration  \\\n",
       "1733   July 15, 2016          2016       106   \n",
       "1381  August 2, 2018          2016       124   \n",
       "4147    June 4, 2019          2009        94   \n",
       "2953   April 1, 2019          2007       126   \n",
       "3760  August 2, 2018          2011       131   \n",
       "\n",
       "                                            description     genre  \n",
       "1733  Eight gleefully grim short tales set on Hallow...  Comedies  \n",
       "1381  A young artist falls for an aristocratic young...    Dramas  \n",
       "4147  A journalist latches onto an unbelievable stor...  Comedies  \n",
       "2953  When she loses her beloved husband to a brain ...    Dramas  \n",
       "3760  Three cheating husbands end up paying the pric...  Comedies  "
      ]
     },
     "execution_count": 4,
     "metadata": {},
     "output_type": "execute_result"
    }
   ],
   "source": [
    "df.sample(5)"
   ]
  },
  {
   "cell_type": "markdown",
   "id": "c70f5dc0-5e18-48d8-8dc2-7b229e0803de",
   "metadata": {},
   "source": [
    "And the Statistical analysis:"
   ]
  },
  {
   "cell_type": "code",
   "execution_count": 5,
   "id": "8f344b2d-7aad-4396-b694-fba17e0e2e8c",
   "metadata": {},
   "outputs": [
    {
     "data": {
      "text/html": [
       "<div>\n",
       "<style scoped>\n",
       "    .dataframe tbody tr th:only-of-type {\n",
       "        vertical-align: middle;\n",
       "    }\n",
       "\n",
       "    .dataframe tbody tr th {\n",
       "        vertical-align: top;\n",
       "    }\n",
       "\n",
       "    .dataframe thead th {\n",
       "        text-align: right;\n",
       "    }\n",
       "</style>\n",
       "<table border=\"1\" class=\"dataframe\">\n",
       "  <thead>\n",
       "    <tr style=\"text-align: right;\">\n",
       "      <th></th>\n",
       "      <th>show_id</th>\n",
       "      <th>type</th>\n",
       "      <th>title</th>\n",
       "      <th>director</th>\n",
       "      <th>cast</th>\n",
       "      <th>country</th>\n",
       "      <th>date_added</th>\n",
       "      <th>release_year</th>\n",
       "      <th>duration</th>\n",
       "      <th>description</th>\n",
       "      <th>genre</th>\n",
       "    </tr>\n",
       "  </thead>\n",
       "  <tbody>\n",
       "    <tr>\n",
       "      <th>count</th>\n",
       "      <td>4812</td>\n",
       "      <td>4812</td>\n",
       "      <td>4812</td>\n",
       "      <td>4812</td>\n",
       "      <td>4812</td>\n",
       "      <td>4812</td>\n",
       "      <td>4812</td>\n",
       "      <td>4812.000000</td>\n",
       "      <td>4812.000000</td>\n",
       "      <td>4812</td>\n",
       "      <td>4812</td>\n",
       "    </tr>\n",
       "    <tr>\n",
       "      <th>unique</th>\n",
       "      <td>4812</td>\n",
       "      <td>2</td>\n",
       "      <td>4812</td>\n",
       "      <td>3615</td>\n",
       "      <td>4690</td>\n",
       "      <td>72</td>\n",
       "      <td>1292</td>\n",
       "      <td>NaN</td>\n",
       "      <td>NaN</td>\n",
       "      <td>4807</td>\n",
       "      <td>31</td>\n",
       "    </tr>\n",
       "    <tr>\n",
       "      <th>top</th>\n",
       "      <td>s2</td>\n",
       "      <td>Movie</td>\n",
       "      <td>7:19</td>\n",
       "      <td>Raúl Campos, Jan Suter</td>\n",
       "      <td>Samuel West</td>\n",
       "      <td>United States</td>\n",
       "      <td>January 1, 2020</td>\n",
       "      <td>NaN</td>\n",
       "      <td>NaN</td>\n",
       "      <td>A scheming matriarch plots to cut off her disa...</td>\n",
       "      <td>Dramas</td>\n",
       "    </tr>\n",
       "    <tr>\n",
       "      <th>freq</th>\n",
       "      <td>1</td>\n",
       "      <td>4677</td>\n",
       "      <td>1</td>\n",
       "      <td>18</td>\n",
       "      <td>10</td>\n",
       "      <td>1886</td>\n",
       "      <td>100</td>\n",
       "      <td>NaN</td>\n",
       "      <td>NaN</td>\n",
       "      <td>2</td>\n",
       "      <td>1343</td>\n",
       "    </tr>\n",
       "    <tr>\n",
       "      <th>mean</th>\n",
       "      <td>NaN</td>\n",
       "      <td>NaN</td>\n",
       "      <td>NaN</td>\n",
       "      <td>NaN</td>\n",
       "      <td>NaN</td>\n",
       "      <td>NaN</td>\n",
       "      <td>NaN</td>\n",
       "      <td>2012.711554</td>\n",
       "      <td>99.566708</td>\n",
       "      <td>NaN</td>\n",
       "      <td>NaN</td>\n",
       "    </tr>\n",
       "    <tr>\n",
       "      <th>std</th>\n",
       "      <td>NaN</td>\n",
       "      <td>NaN</td>\n",
       "      <td>NaN</td>\n",
       "      <td>NaN</td>\n",
       "      <td>NaN</td>\n",
       "      <td>NaN</td>\n",
       "      <td>NaN</td>\n",
       "      <td>9.517978</td>\n",
       "      <td>30.889305</td>\n",
       "      <td>NaN</td>\n",
       "      <td>NaN</td>\n",
       "    </tr>\n",
       "    <tr>\n",
       "      <th>min</th>\n",
       "      <td>NaN</td>\n",
       "      <td>NaN</td>\n",
       "      <td>NaN</td>\n",
       "      <td>NaN</td>\n",
       "      <td>NaN</td>\n",
       "      <td>NaN</td>\n",
       "      <td>NaN</td>\n",
       "      <td>1942.000000</td>\n",
       "      <td>1.000000</td>\n",
       "      <td>NaN</td>\n",
       "      <td>NaN</td>\n",
       "    </tr>\n",
       "    <tr>\n",
       "      <th>25%</th>\n",
       "      <td>NaN</td>\n",
       "      <td>NaN</td>\n",
       "      <td>NaN</td>\n",
       "      <td>NaN</td>\n",
       "      <td>NaN</td>\n",
       "      <td>NaN</td>\n",
       "      <td>NaN</td>\n",
       "      <td>2011.000000</td>\n",
       "      <td>88.000000</td>\n",
       "      <td>NaN</td>\n",
       "      <td>NaN</td>\n",
       "    </tr>\n",
       "    <tr>\n",
       "      <th>50%</th>\n",
       "      <td>NaN</td>\n",
       "      <td>NaN</td>\n",
       "      <td>NaN</td>\n",
       "      <td>NaN</td>\n",
       "      <td>NaN</td>\n",
       "      <td>NaN</td>\n",
       "      <td>NaN</td>\n",
       "      <td>2016.000000</td>\n",
       "      <td>99.000000</td>\n",
       "      <td>NaN</td>\n",
       "      <td>NaN</td>\n",
       "    </tr>\n",
       "    <tr>\n",
       "      <th>75%</th>\n",
       "      <td>NaN</td>\n",
       "      <td>NaN</td>\n",
       "      <td>NaN</td>\n",
       "      <td>NaN</td>\n",
       "      <td>NaN</td>\n",
       "      <td>NaN</td>\n",
       "      <td>NaN</td>\n",
       "      <td>2018.000000</td>\n",
       "      <td>116.000000</td>\n",
       "      <td>NaN</td>\n",
       "      <td>NaN</td>\n",
       "    </tr>\n",
       "    <tr>\n",
       "      <th>max</th>\n",
       "      <td>NaN</td>\n",
       "      <td>NaN</td>\n",
       "      <td>NaN</td>\n",
       "      <td>NaN</td>\n",
       "      <td>NaN</td>\n",
       "      <td>NaN</td>\n",
       "      <td>NaN</td>\n",
       "      <td>2021.000000</td>\n",
       "      <td>253.000000</td>\n",
       "      <td>NaN</td>\n",
       "      <td>NaN</td>\n",
       "    </tr>\n",
       "  </tbody>\n",
       "</table>\n",
       "</div>"
      ],
      "text/plain": [
       "       show_id   type title                director         cast  \\\n",
       "count     4812   4812  4812                    4812         4812   \n",
       "unique    4812      2  4812                    3615         4690   \n",
       "top         s2  Movie  7:19  Raúl Campos, Jan Suter  Samuel West   \n",
       "freq         1   4677     1                      18           10   \n",
       "mean       NaN    NaN   NaN                     NaN          NaN   \n",
       "std        NaN    NaN   NaN                     NaN          NaN   \n",
       "min        NaN    NaN   NaN                     NaN          NaN   \n",
       "25%        NaN    NaN   NaN                     NaN          NaN   \n",
       "50%        NaN    NaN   NaN                     NaN          NaN   \n",
       "75%        NaN    NaN   NaN                     NaN          NaN   \n",
       "max        NaN    NaN   NaN                     NaN          NaN   \n",
       "\n",
       "              country       date_added  release_year     duration  \\\n",
       "count            4812             4812   4812.000000  4812.000000   \n",
       "unique             72             1292           NaN          NaN   \n",
       "top     United States  January 1, 2020           NaN          NaN   \n",
       "freq             1886              100           NaN          NaN   \n",
       "mean              NaN              NaN   2012.711554    99.566708   \n",
       "std               NaN              NaN      9.517978    30.889305   \n",
       "min               NaN              NaN   1942.000000     1.000000   \n",
       "25%               NaN              NaN   2011.000000    88.000000   \n",
       "50%               NaN              NaN   2016.000000    99.000000   \n",
       "75%               NaN              NaN   2018.000000   116.000000   \n",
       "max               NaN              NaN   2021.000000   253.000000   \n",
       "\n",
       "                                              description   genre  \n",
       "count                                                4812    4812  \n",
       "unique                                               4807      31  \n",
       "top     A scheming matriarch plots to cut off her disa...  Dramas  \n",
       "freq                                                    2    1343  \n",
       "mean                                                  NaN     NaN  \n",
       "std                                                   NaN     NaN  \n",
       "min                                                   NaN     NaN  \n",
       "25%                                                   NaN     NaN  \n",
       "50%                                                   NaN     NaN  \n",
       "75%                                                   NaN     NaN  \n",
       "max                                                   NaN     NaN  "
      ]
     },
     "execution_count": 5,
     "metadata": {},
     "output_type": "execute_result"
    }
   ],
   "source": [
    "df.describe(include='all')"
   ]
  },
  {
   "cell_type": "markdown",
   "id": "36d9faf9-ab3c-4e1f-85e8-225b646afa71",
   "metadata": {},
   "source": [
    "Conclusions:\n",
    "*  the ``release_year``, and ``duration`` columns are in an ``int`` type.\n",
    "* There are no *null values* in the data.\n",
    "* For the project, only the columns ``genre``, ``type``, ``duration`` and ``released_year`` are required\n",
    "* also the columns ``show_id`` and ``title`` will be kept.\n",
    "* Further statistical is to be made to ``release_year`` and ``duration`` of the movies/tv\n",
    "* unique values are to be identified for ``genre`` and ``type``\n",
    "* all other columns are to be removed"
   ]
  },
  {
   "cell_type": "code",
   "execution_count": 6,
   "id": "d925a5d3-f95d-48ea-9934-bb590591fb4a",
   "metadata": {},
   "outputs": [
    {
     "data": {
      "text/plain": [
       "array(['Movie', 'TV Show'], dtype=object)"
      ]
     },
     "execution_count": 6,
     "metadata": {},
     "output_type": "execute_result"
    }
   ],
   "source": [
    "df['type'].unique()"
   ]
  },
  {
   "cell_type": "markdown",
   "id": "f06b883f-dd16-48fe-8134-efcc9e79a2c9",
   "metadata": {},
   "source": [
    "``type`` rows with *``'Movie'``* value will be kept"
   ]
  },
  {
   "cell_type": "code",
   "execution_count": 7,
   "id": "81a85aec-14bd-462a-8cf3-0969c24e28f2",
   "metadata": {},
   "outputs": [
    {
     "name": "stdout",
     "output_type": "stream",
     "text": [
      "['Dramas' 'Horror Movies' 'Action' 'International TV' 'Documentaries'\n",
      " 'Independent Movies' 'Comedies' 'Sci-Fi' 'International Movies'\n",
      " 'Children' 'TV Shows' 'Uncategorized' 'Classic Movies' 'Thrillers'\n",
      " 'Stand-Up' 'Anime Features' 'Music' 'Anime Series' 'Kids' 'Docuseries'\n",
      " 'Crime TV' 'British TV' 'Cult Movies' 'TV Action' 'Romantic TV'\n",
      " 'TV Horror' 'Romantic Movies' 'TV Comedies' 'Classic' 'Reality TV'\n",
      " 'LGBTQ Movies']\n"
     ]
    }
   ],
   "source": [
    "print(df['genre'].unique())"
   ]
  },
  {
   "cell_type": "markdown",
   "id": "8f7b5226-a58d-4bb2-a69c-42619dc1a4ed",
   "metadata": {},
   "source": [
    "Note ``'Classic'`` and ``'Classic Movies'`` could be the same genre."
   ]
  },
  {
   "cell_type": "code",
   "execution_count": 8,
   "id": "e9ecc448-cefe-4c6a-8271-aa7f733b31cc",
   "metadata": {},
   "outputs": [
    {
     "name": "stdout",
     "output_type": "stream",
     "text": [
      "genre\n",
      "Dramas                  1343\n",
      "Comedies                1029\n",
      "Action                   696\n",
      "Children                 421\n",
      "Documentaries            352\n",
      "Stand-Up                 283\n",
      "Horror Movies            239\n",
      "International Movies     100\n",
      "Classic Movies            69\n",
      "Thrillers                 49\n",
      "International TV          39\n",
      "Crime TV                  30\n",
      "Uncategorized             25\n",
      "Independent Movies        20\n",
      "British TV                20\n",
      "Anime Features            18\n",
      "Music                     14\n",
      "Sci-Fi                    11\n",
      "Cult Movies               11\n",
      "Kids                      10\n",
      "Anime Series               9\n",
      "Docuseries                 7\n",
      "TV Shows                   4\n",
      "Romantic Movies            3\n",
      "TV Comedies                3\n",
      "TV Action                  2\n",
      "Romantic TV                1\n",
      "TV Horror                  1\n",
      "Classic                    1\n",
      "Reality TV                 1\n",
      "LGBTQ Movies               1\n",
      "Name: count, dtype: int64\n"
     ]
    }
   ],
   "source": [
    "genre_counts = df['genre'].value_counts()\n",
    "print(genre_counts)"
   ]
  },
  {
   "cell_type": "markdown",
   "id": "590b243a-53be-4ffc-bb65-09a0ba5b0c30",
   "metadata": {},
   "source": [
    "Find the show with genre *'Classic'*"
   ]
  },
  {
   "cell_type": "code",
   "execution_count": 9,
   "id": "06af8199-8792-4638-8583-32d9c805616c",
   "metadata": {
    "scrolled": true
   },
   "outputs": [
    {
     "data": {
      "text/html": [
       "<div>\n",
       "<style scoped>\n",
       "    .dataframe tbody tr th:only-of-type {\n",
       "        vertical-align: middle;\n",
       "    }\n",
       "\n",
       "    .dataframe tbody tr th {\n",
       "        vertical-align: top;\n",
       "    }\n",
       "\n",
       "    .dataframe thead th {\n",
       "        text-align: right;\n",
       "    }\n",
       "</style>\n",
       "<table border=\"1\" class=\"dataframe\">\n",
       "  <thead>\n",
       "    <tr style=\"text-align: right;\">\n",
       "      <th></th>\n",
       "      <th>show_id</th>\n",
       "      <th>type</th>\n",
       "      <th>title</th>\n",
       "      <th>director</th>\n",
       "      <th>cast</th>\n",
       "      <th>country</th>\n",
       "      <th>date_added</th>\n",
       "      <th>release_year</th>\n",
       "      <th>duration</th>\n",
       "      <th>description</th>\n",
       "      <th>genre</th>\n",
       "    </tr>\n",
       "  </thead>\n",
       "  <tbody>\n",
       "    <tr>\n",
       "      <th>3678</th>\n",
       "      <td>s5913</td>\n",
       "      <td>TV Show</td>\n",
       "      <td>Supernatural</td>\n",
       "      <td>Phil Sgriccia</td>\n",
       "      <td>Jared Padalecki, Jensen Ackles, Mark Sheppard,...</td>\n",
       "      <td>United States</td>\n",
       "      <td>June 5, 2020</td>\n",
       "      <td>2019</td>\n",
       "      <td>15</td>\n",
       "      <td>Siblings Dean and Sam crisscross the country, ...</td>\n",
       "      <td>Classic</td>\n",
       "    </tr>\n",
       "  </tbody>\n",
       "</table>\n",
       "</div>"
      ],
      "text/plain": [
       "     show_id     type         title       director  \\\n",
       "3678   s5913  TV Show  Supernatural  Phil Sgriccia   \n",
       "\n",
       "                                                   cast        country  \\\n",
       "3678  Jared Padalecki, Jensen Ackles, Mark Sheppard,...  United States   \n",
       "\n",
       "        date_added  release_year  duration  \\\n",
       "3678  June 5, 2020          2019        15   \n",
       "\n",
       "                                            description    genre  \n",
       "3678  Siblings Dean and Sam crisscross the country, ...  Classic  "
      ]
     },
     "execution_count": 9,
     "metadata": {},
     "output_type": "execute_result"
    }
   ],
   "source": [
    "df[df['genre']=='Classic']"
   ]
  },
  {
   "cell_type": "markdown",
   "id": "c7a3d947-38a1-46cf-81ba-2c658c3a14bc",
   "metadata": {},
   "source": [
    "The show *\"Supernatural\"* is the only one in the genre *'Classic'*, but... it is *'TV Show'* therefore it can be discarded. "
   ]
  },
  {
   "cell_type": "code",
   "execution_count": 10,
   "id": "29541e1a-5159-46e6-9790-a35fbd71a881",
   "metadata": {},
   "outputs": [
    {
     "data": {
      "image/png": "[encoded data removed]",
      "text/plain": [
       "<Figure size 640x480 with 1 Axes>"
      ]
     },
     "metadata": {},
     "output_type": "display_data"
    }
   ],
   "source": [
    "plt.clf()\n",
    "genre_counts.plot(kind='bar',title='Shows per genre')#hist()\n",
    "plt.show()"
   ]
  },
  {
   "cell_type": "markdown",
   "id": "fffe0291-541a-4191-b0d2-f8366d0f1041",
   "metadata": {},
   "source": [
    "## Data Wrangling"
   ]
  },
  {
   "cell_type": "markdown",
   "id": "6cd4a39f-cdbb-4501-8609-9e4c66968602",
   "metadata": {},
   "source": [
    "First, lets remove the usless columns from the df"
   ]
  },
  {
   "cell_type": "code",
   "execution_count": 11,
   "id": "d337350d-734a-4f18-a1f1-a8606a2368f7",
   "metadata": {},
   "outputs": [],
   "source": [
    "df_clean=df[['show_id','title','genre', 'type', 'duration' , 'release_year']]"
   ]
  },
  {
   "cell_type": "markdown",
   "id": "c3e551a4-57e4-469b-97cd-88b3ed1a5ab4",
   "metadata": {},
   "source": [
    "Now lets filter the 'Movies'"
   ]
  },
  {
   "cell_type": "code",
   "execution_count": 12,
   "id": "066269ba-ce5f-4d43-b18e-d7044c47b213",
   "metadata": {},
   "outputs": [],
   "source": [
    "df_clean=df_clean[df_clean['type']=='Movie']"
   ]
  },
  {
   "cell_type": "markdown",
   "id": "2de3b9cc-0302-48cd-9617-196b82fcb90f",
   "metadata": {},
   "source": [
    "Lets remove the *type* columns"
   ]
  },
  {
   "cell_type": "code",
   "execution_count": 13,
   "id": "bb1812fa-0fa4-4690-a416-5c81f69d0e40",
   "metadata": {},
   "outputs": [],
   "source": [
    "df_clean=df_clean[['show_id','title','genre', 'duration' , 'release_year']]"
   ]
  },
  {
   "cell_type": "markdown",
   "id": "dda15b83-4ddc-4a2e-b341-3eaa65776556",
   "metadata": {},
   "source": [
    "Lets include only the movies releaded in 1990's"
   ]
  },
  {
   "cell_type": "code",
   "execution_count": 14,
   "id": "87ceeb93-4c8c-4517-9726-4eab57b17b2a",
   "metadata": {},
   "outputs": [
    {
     "name": "stdout",
     "output_type": "stream",
     "text": [
      "The ammount of Movies released from 1990 to 1999 is: 183\n"
     ]
    },
    {
     "data": {
      "text/html": [
       "<div>\n",
       "<style scoped>\n",
       "    .dataframe tbody tr th:only-of-type {\n",
       "        vertical-align: middle;\n",
       "    }\n",
       "\n",
       "    .dataframe tbody tr th {\n",
       "        vertical-align: top;\n",
       "    }\n",
       "\n",
       "    .dataframe thead th {\n",
       "        text-align: right;\n",
       "    }\n",
       "</style>\n",
       "<table border=\"1\" class=\"dataframe\">\n",
       "  <thead>\n",
       "    <tr style=\"text-align: right;\">\n",
       "      <th></th>\n",
       "      <th>show_id</th>\n",
       "      <th>title</th>\n",
       "      <th>genre</th>\n",
       "      <th>duration</th>\n",
       "      <th>release_year</th>\n",
       "    </tr>\n",
       "  </thead>\n",
       "  <tbody>\n",
       "    <tr>\n",
       "      <th>0</th>\n",
       "      <td>s8</td>\n",
       "      <td>187</td>\n",
       "      <td>Dramas</td>\n",
       "      <td>119</td>\n",
       "      <td>1997</td>\n",
       "    </tr>\n",
       "    <tr>\n",
       "      <th>1</th>\n",
       "      <td>s167</td>\n",
       "      <td>A Dangerous Woman</td>\n",
       "      <td>Dramas</td>\n",
       "      <td>101</td>\n",
       "      <td>1993</td>\n",
       "    </tr>\n",
       "    <tr>\n",
       "      <th>2</th>\n",
       "      <td>s211</td>\n",
       "      <td>A Night at the Roxbury</td>\n",
       "      <td>Comedies</td>\n",
       "      <td>82</td>\n",
       "      <td>1998</td>\n",
       "    </tr>\n",
       "    <tr>\n",
       "      <th>3</th>\n",
       "      <td>s239</td>\n",
       "      <td>A Thin Line Between Love &amp; Hate</td>\n",
       "      <td>Comedies</td>\n",
       "      <td>108</td>\n",
       "      <td>1996</td>\n",
       "    </tr>\n",
       "    <tr>\n",
       "      <th>4</th>\n",
       "      <td>s274</td>\n",
       "      <td>Aashik Awara</td>\n",
       "      <td>Dramas</td>\n",
       "      <td>154</td>\n",
       "      <td>1993</td>\n",
       "    </tr>\n",
       "  </tbody>\n",
       "</table>\n",
       "</div>"
      ],
      "text/plain": [
       "  show_id                            title     genre  duration  release_year\n",
       "0      s8                              187    Dramas       119          1997\n",
       "1    s167                A Dangerous Woman    Dramas       101          1993\n",
       "2    s211           A Night at the Roxbury  Comedies        82          1998\n",
       "3    s239  A Thin Line Between Love & Hate  Comedies       108          1996\n",
       "4    s274                     Aashik Awara    Dramas       154          1993"
      ]
     },
     "execution_count": 14,
     "metadata": {},
     "output_type": "execute_result"
    }
   ],
   "source": [
    "df_clean=df_clean[np.logical_and(df_clean['release_year']>=1990, df_clean['release_year']<2000)].reset_index().iloc[:,1:]\n",
    "print('The ammount of Movies released from 1990 to 1999 is: ' + str(len(df_clean)))\n",
    "df_clean.head()"
   ]
  },
  {
   "cell_type": "markdown",
   "id": "5a5006e6-5fe5-481e-8f0b-55709d55f58a",
   "metadata": {},
   "source": [
    "## Analysis and solve problem"
   ]
  },
  {
   "cell_type": "code",
   "execution_count": 15,
   "id": "4e545093-1696-4f84-b5ff-aa4a219e2103",
   "metadata": {},
   "outputs": [
    {
     "data": {
      "image/png": "[encoded data removed]",
      "text/plain": [
       "<Figure size 640x480 with 1 Axes>"
      ]
     },
     "metadata": {},
     "output_type": "display_data"
    }
   ],
   "source": [
    "movie_counts = df_clean['genre'].value_counts()\n",
    "plt.clf()\n",
    "movie_counts.plot(kind='bar',title='Movies per genre')\n",
    "plt.show()"
   ]
  },
  {
   "cell_type": "markdown",
   "id": "40acb647-6a5e-4942-ae08-38956919a908",
   "metadata": {},
   "source": [
    "The questions Datacam is asking are:\n",
    "* What was the most frequent movie duration in the 1990s? Save an approximate answer as an integer called duration.\n",
    "* A movie is considered short if it is less than 90 minutes. Count the number of short action movies released in the 1990s and save this integer as short_movie_count."
   ]
  },
  {
   "cell_type": "code",
   "execution_count": 16,
   "id": "58facf15-0ca9-4a7f-b582-a79d013d6e41",
   "metadata": {},
   "outputs": [
    {
     "data": {
      "text/plain": [
       "108"
      ]
     },
     "execution_count": 16,
     "metadata": {},
     "output_type": "execute_result"
    }
   ],
   "source": [
    "duration=int(df_clean['duration'].median())\n",
    "duration"
   ]
  },
  {
   "cell_type": "code",
   "execution_count": 17,
   "id": "abfba031-b45f-4247-9396-135c8865f0e0",
   "metadata": {},
   "outputs": [
    {
     "data": {
      "text/plain": [
       "7"
      ]
     },
     "execution_count": 17,
     "metadata": {},
     "output_type": "execute_result"
    }
   ],
   "source": [
    "short_movie_count=len(df_clean[(df_clean['duration']<90)&(df_clean['genre']=='Action')])\n",
    "short_movie_count"
   ]
  }
 ],
 "metadata": {
  "colab": {
   "name": "Welcome to DataCamp Workspaces.ipynb",
   "provenance": []
  },
  "editor": "DataLab",
  "kernelspec": {
   "display_name": "Python 3 (ipykernel)",
   "language": "python",
   "name": "python3"
  },
  "language_info": {
   "codemirror_mode": {
    "name": "ipython",
    "version": 3
   },
   "file_extension": ".py",
   "mimetype": "text/x-python",
   "name": "python",
   "nbconvert_exporter": "python",
   "pygments_lexer": "ipython3",
   "version": "3.11.9"
  }
 },
 "nbformat": 4,
 "nbformat_minor": 5
}
